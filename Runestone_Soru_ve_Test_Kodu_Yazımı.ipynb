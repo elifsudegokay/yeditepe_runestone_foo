{
  "nbformat": 4,
  "nbformat_minor": 0,
  "metadata": {
    "colab": {
      "name": "Runestone_Soru ve Test Kodu Yazımı.ipynb",
      "provenance": [],
      "collapsed_sections": []
    },
    "kernelspec": {
      "name": "python3",
      "display_name": "Python 3"
    }
  },
  "cells": [
    {
      "cell_type": "markdown",
      "metadata": {
        "id": "VgMozC6ZWaX8",
        "colab_type": "text"
      },
      "source": [
        "Soru Yazım Kılavuzu : https://runestone.academy/runestone/static/instructorguide/WritingExercises/toctree.html\n",
        "\n",
        "Test Kodu Açıklama: http://www.runestoneinteractive.org/2019/08/15/fall_homework.html"
      ]
    },
    {
      "cell_type": "markdown",
      "metadata": {
        "id": "VeyL4I_BY9sH",
        "colab_type": "text"
      },
      "source": [
        "Ekran çıktısı aşağıdaki gibi bir soru elde etmek için bir sonraki bloktaki kodu yazıyoruz."
      ]
    },
    {
      "cell_type": "markdown",
      "metadata": {
        "id": "5Za-iQvcXJVv",
        "colab_type": "text"
      },
      "source": [
        "![](https://drive.google.com/uc?id=1gdyftda_Flp65Mxt63fS5MebB3M7WH8U)\n",
        "\n",
        "\n",
        "\n",
        "\n",
        "*italicized text*"
      ]
    },
    {
      "cell_type": "code",
      "metadata": {
        "id": "Jh2Qvr7rZUV1",
        "colab_type": "code",
        "colab": {}
      },
      "source": [
        ".. actex:: ac11_14_4\n",
        "   :nocodelens:\n",
        "\n",
        "   Write a function that mirrors its string argument,\n",
        "   generating a string containing the original string and the string backwards.\n",
        "   ~~~~\n",
        "\n",
        "   def mirror(mystr):\n",
        "       # your code here\n"
      ],
      "execution_count": 0,
      "outputs": []
    },
    {
      "cell_type": "markdown",
      "metadata": {
        "id": "8-ZfJmtFZZ-X",
        "colab_type": "text"
      },
      "source": [
        "Soruya test kodu eklemek için \n",
        "\n",
        "(====) kullanarak aşağıda olduğu gibi unittest kütüphanesi yada başka bir test kütüphanesi ile devam edilebilir.\n",
        "\n",
        "Burda (====)'ün işlevi test kodunu öğrenciden gizlemektir."
      ]
    },
    {
      "cell_type": "code",
      "metadata": {
        "id": "mN0H2pMxW1xn",
        "colab_type": "code",
        "colab": {}
      },
      "source": [
        ".. actex:: ac11_14_4\n",
        "   :nocodelens:\n",
        "\n",
        "   Write a function that mirrors its string argument,\n",
        "   generating a string containing the original string and the string backwards.\n",
        "   ~~~~\n",
        "\n",
        "   def mirror(mystr):\n",
        "       # your code here\n",
        "\n",
        "   ====\n",
        "\n",
        "   from unittest.gui import TestCaseGui\n",
        "\n",
        "   class myTests(TestCaseGui):\n",
        "\n",
        "       def testOne(self):\n",
        "           self.assertEqual(mirror(\"good\"),\"gooddoog\",\"Tested mirror on input of 'good'\")\n",
        "           self.assertEqual(mirror(\"Python\"),\"PythonnohtyP\",\"Tested mirror on input of 'Python'\")\n",
        "           self.assertEqual(mirror(\"\"),\"\",\"Tested mirror on input of ''\")\n",
        "           self.assertEqual(mirror(\"a\"),\"aa\",\"Tested mirror on input of 'a'\")\n",
        "\n",
        "\n",
        "   myTests().main()"
      ],
      "execution_count": 0,
      "outputs": []
    },
    {
      "cell_type": "markdown",
      "metadata": {
        "id": "jDAq1OJ1aQpF",
        "colab_type": "text"
      },
      "source": [
        "Soruya aşağıdaki resimde olduğu gibi açıklama eklemek için (::)  kullanılır. "
      ]
    },
    {
      "cell_type": "markdown",
      "metadata": {
        "id": "ZVpkV5VEY2Tn",
        "colab_type": "text"
      },
      "source": [
        "![alt text](https://drive.google.com/uc?id=1_-NES4YvCzERjXVjq7AoFnmxLO16S_Nf)"
      ]
    },
    {
      "cell_type": "code",
      "metadata": {
        "id": "RUJSj91sbHbf",
        "colab_type": "code",
        "colab": {}
      },
      "source": [
        "\n",
        ".. actex:: asteriks1\n",
        "\n",
        "   Write a program which prints an empty square from asteriks like below::\n",
        "\n",
        "         ****\n",
        "         *  *\n",
        "         *  *\n",
        "         ****\n",
        "\n",
        "   ~~~~\n",
        "\n",
        "\n",
        "   ===="
      ],
      "execution_count": 0,
      "outputs": []
    },
    {
      "cell_type": "markdown",
      "metadata": {
        "id": "hMSD8ytTdx2x",
        "colab_type": "text"
      },
      "source": [
        "Aşağıdaki ekran çıktısında (maxThree, Hint, Write it yourself gibi) vurgulanmak istenen kelime yada kelime grupları yazımı bir sonraki blokta kodlanmıştır. "
      ]
    },
    {
      "cell_type": "markdown",
      "metadata": {
        "id": "VDCtfnoabkdv",
        "colab_type": "text"
      },
      "source": [
        "![alt text](https://drive.google.com/uc?id=17MEe6zSyVv3gCjPya8y9xkGFPhxrrenZ)"
      ]
    },
    {
      "cell_type": "code",
      "metadata": {
        "id": "CAQj4oNpcGLB",
        "colab_type": "code",
        "colab": {}
      },
      "source": [
        "\n",
        ".. actex:: functions1\n",
        "\n",
        "   Write a Python function named ``maxThree`` which finds the max of three integer numbers::\n",
        "\n",
        "      maxThree(78, 45, 92)\n",
        "      >>> 92\n",
        "      maxThree(12, 12, 10)\n",
        "      >>> 12\n",
        "\n",
        "   *Hint*: Do not use any module or any existing function. **Write it yourself.**\n",
        "   ~~~~\n",
        "   def maxThree(num1, num2, num3):\n",
        "       # your code here\n",
        "\n",
        "   ====\n",
        "   from unittest.gui import TestCaseGui\n",
        "\n",
        "   class myTests(TestCaseGui):\n",
        "\n",
        "       def testOne(self):\n",
        "           self.assertEqual(maxThree(78, 45, 92),92,\"Testing\")\n",
        "           self.assertEqual(maxThree(12, 12, 10),12,\"Testing\")\n",
        "           self.assertEqual(maxThree(43, -89, 99),99,\"Testing\")\n",
        "           self.assertEqual(maxThree(-1, -2, -3),-1,\"Testing\")\n",
        "\n",
        "\n",
        "   myTests().main()"
      ],
      "execution_count": 0,
      "outputs": []
    },
    {
      "cell_type": "markdown",
      "metadata": {
        "id": "WtQgr1Jhcdjf",
        "colab_type": "text"
      },
      "source": [
        "Aşağıdaki örnekte öğrenciden bir dosyayı kullanması istenmiştir. Bir dosyanın kod yazım alanında kullanılabilmesi için kitapta ekli olması ve o soru için kullanılabilir olması (available_files olarak belirtilmesi) gereklidir. İlgili kod bir sonraki bloktadır."
      ]
    },
    {
      "cell_type": "markdown",
      "metadata": {
        "id": "9QZTdnZIdO0Q",
        "colab_type": "text"
      },
      "source": [
        "![alt text](https://drive.google.com/uc?id=13a6ZF9MPt3Yo-a1zY8IvF9dXmSVP-VMm)"
      ]
    },
    {
      "cell_type": "code",
      "metadata": {
        "id": "cInAHmy_dLyL",
        "colab_type": "code",
        "colab": {}
      },
      "source": [
        ".. activecode:: ac9_10_2\n",
        "   :language: python\n",
        "   :autograde: unittest\n",
        "   :practice: T\n",
        "   :available_files: emotion_words.txt\n",
        "\n",
        "   We have provided a file called ``emotion_words.txt`` that contains lines of words that describe emotions. Find the total number of words in the file and assign this value to the variable ``num_words``.\n",
        "   ~~~~\n",
        "\n",
        "   =====\n",
        "\n",
        "   from unittest.gui import TestCaseGui\n",
        "\n",
        "   class myTests(TestCaseGui):\n",
        "\n",
        "      def testOne(self):\n",
        "         self.assertEqual(num_words, 48, \"Testing that num_words was assigned to the correct value.\")\n",
        "\n",
        "   myTests().main()\n",
        "\n"
      ],
      "execution_count": 0,
      "outputs": []
    },
    {
      "cell_type": "markdown",
      "metadata": {
        "id": "62PDh2Jxd7dU",
        "colab_type": "text"
      },
      "source": [
        "Bir dosyanın görünümüne soru içersinde yer verebilmek için dosyanın ismini pre_id olarak raw::html işlevine vermemiz gerekir. Aşağıdaki örnekte de olduğu gibi öğrencinin dosyayı kod içinde de kullanabilmesi için dosyanın kullanılabilir olması (available_files olarak belirtilmesi) gereklidir."
      ]
    },
    {
      "cell_type": "markdown",
      "metadata": {
        "id": "Np5D662efDDR",
        "colab_type": "text"
      },
      "source": [
        "![alt text](https://drive.google.com/uc?id=17jdbZKtCbX_YwHaXDrH5NgvrGA9cI-m1)"
      ]
    },
    {
      "cell_type": "code",
      "metadata": {
        "id": "t8gyN2g6fKrE",
        "colab_type": "code",
        "colab": {}
      },
      "source": [
        ".. actex:: ac9_9_1\n",
        "   :nocodelens:\n",
        "   :available_files: studentdata.txt\n",
        "\n",
        "   The following sample file called ``studentdata.txt`` contains one line for each student in an imaginary class.  The\n",
        "   students name is the first thing on each line, followed by some exam scores.\n",
        "   The number of scores might be different for each student.\n",
        "\n",
        "   .. raw:: html\n",
        "\n",
        "       <pre id=\"studentdata.txt\">\n",
        "       joe 10 15 20 30 40\n",
        "       bill 23 16 19 22\n",
        "       sue 8 22 17 14 32 17 24 21 2 9 11 17\n",
        "       grace 12 28 21 45 26 10\n",
        "       john 14 32 25 16 89\n",
        "       </pre>\n",
        "\n",
        "   Using the text file ``studentdata.txt`` write a program that prints out the names of\n",
        "   students that have more than six quiz scores.\n",
        "   ~~~~\n",
        "\n",
        "   # Hint: first see if you can write a program that just prints out the number of scores on each line\n",
        "   # Then, make it print the number only if the number is at least six\n",
        "   # Then, switch it to printing the name instead of the number"
      ],
      "execution_count": 0,
      "outputs": []
    },
    {
      "cell_type": "markdown",
      "metadata": {
        "id": "L4dHWDrOh92Y",
        "colab_type": "text"
      },
      "source": [
        "Soruya fotoğraf eklemenin iki yolu vardır.\n",
        "\n",
        "\n",
        "1.   kitapta yada ilgili ünitede yer alan fotoğraflardan birini kullanmak\n",
        "2.   Bir fotoğraf linki kullanmak\n",
        "\n"
      ]
    },
    {
      "cell_type": "markdown",
      "metadata": {
        "id": "LtF0fOJLiXuJ",
        "colab_type": "text"
      },
      "source": [
        "1.   kitapta yada ilgili ünitede yer alan fotoğraflardan birini kullanmak"
      ]
    },
    {
      "cell_type": "markdown",
      "metadata": {
        "id": "BnCuPmwoijZl",
        "colab_type": "text"
      },
      "source": [
        "![alt text](https://drive.google.com/uc?id=1mWBMbp5RDQC85TkQzYMrYW3pYGQaxns7)"
      ]
    },
    {
      "cell_type": "code",
      "metadata": {
        "id": "JPIlScTUijkU",
        "colab_type": "code",
        "colab": {}
      },
      "source": [
        ".. actex:: ac3_8_4\n",
        "   :nocodelens:\n",
        "\n",
        "   Write a program to draw a shape like this:\n",
        "\n",
        "   .. image:: Figures/star.png\n",
        "   ~~~~"
      ],
      "execution_count": 0,
      "outputs": []
    },
    {
      "cell_type": "markdown",
      "metadata": {
        "id": "gywmLnjGiaER",
        "colab_type": "text"
      },
      "source": [
        "2.   Bir fotoğraf linki kullanmak\n"
      ]
    },
    {
      "cell_type": "markdown",
      "metadata": {
        "id": "MZs-JVHdimFL",
        "colab_type": "text"
      },
      "source": [
        "![alt text](https://drive.google.com/uc?id=10JkoX4dpBQpRfxXCy7Lu8G7OLTH9B_5A)"
      ]
    },
    {
      "cell_type": "code",
      "metadata": {
        "id": "vMUuPDigima9",
        "colab_type": "code",
        "colab": {}
      },
      "source": [
        "\n",
        ".. actex:: lab3_2b\n",
        "   :nocodelens:\n",
        "\n",
        "   What would happen if you had called 10 times one after the other, not 4 times? How would you have to edit the code if you wanted to get a result similar to the figure below?\n",
        "\n",
        "   .. image:: https://i.ibb.co/k5wysQv/5-v1-3.png\n",
        "   ~~~~"
      ],
      "execution_count": 0,
      "outputs": []
    },
    {
      "cell_type": "markdown",
      "metadata": {
        "id": "HmTBh2_Rf61U",
        "colab_type": "text"
      },
      "source": [
        "Aşağıdaki gibi birden fazla doğru cevabı olan çoktan seçmeli soruların yazımı bir sonraki blokta belirtilmiştir. Burda \"correct\" doğru cevapları \"feedback_x\" x işaretlenip çalıştırıldığında o seçenekle ilgili yönlendirici yorumu ifade eder."
      ]
    },
    {
      "cell_type": "markdown",
      "metadata": {
        "id": "lO9n_I4kgrwG",
        "colab_type": "text"
      },
      "source": [
        "![alt text](https://drive.google.com/uc?id=1sAJUxooaHucUdLpdReT-13Eim2dN_d03)"
      ]
    },
    {
      "cell_type": "code",
      "metadata": {
        "id": "IxjU7ihifXIP",
        "colab_type": "code",
        "colab": {}
      },
      "source": [
        ".. mchoice:: question7_2_1\n",
        "   :multiple_answers:\n",
        "   :answer_a: True\n",
        "   :answer_b: 3 == 4\n",
        "   :answer_c: 3 + 4\n",
        "   :answer_d: 3 + 4 == 7\n",
        "   :answer_e: &quot;False&quot;\n",
        "   :correct: a,b,d\n",
        "   :feedback_a: True and False are both Boolean literals.\n",
        "   :feedback_b: The comparison between two numbers via == results in either True or False (in this case False), both Boolean values.\n",
        "   :feedback_c:  3+4 evaluates to 7, which is a number, not a Boolean value.\n",
        "   :feedback_d: 3+4 evaluates to 7.  7 == 7 then evaluates to True, which is a Boolean value.\n",
        "   :feedback_e: With the double quotes surrounding it, False is interpreted as a string, not a Boolean value. If the quotes had not been included, False alone is in fact a Boolean value.\n",
        "   :practice: T\n",
        "\n",
        "   Which of the following is a Boolean expression? Select all that apply."
      ],
      "execution_count": 0,
      "outputs": []
    },
    {
      "cell_type": "markdown",
      "metadata": {
        "id": "9e0htvWUg3rM",
        "colab_type": "text"
      },
      "source": [
        "Çoktan seçmeli tek doğru cevabı olan soruların yazımı"
      ]
    },
    {
      "cell_type": "markdown",
      "metadata": {
        "id": "DX1NkkKFkVJV",
        "colab_type": "text"
      },
      "source": [
        "![alt text](https://drive.google.com/uc?id=1KVOuz6U4f_o_2E4wZdGovN8073peuVZW)"
      ]
    },
    {
      "cell_type": "code",
      "metadata": {
        "id": "_vya8c_7kVRw",
        "colab_type": "code",
        "colab": {}
      },
      "source": [
        ".. mchoice:: basic_consepts4\n",
        "   :answer_a: student.title()\n",
        "   :answer_b: title.student()\n",
        "   :answer_c: title.student\n",
        "   :answer_d: student(title)\n",
        "   :answer_e: student.title\n",
        "   :correct: e\n",
        "   :feedback_a: This accesses the attribute but then tries to invoke it as a method, which will fail if title is not a method.\n",
        "   :feedback_b: student is the object, so it goes before the period; the attribute goes after.\n",
        "   :feedback_c: student is the object, so it goes before the period; the attribute goes after.\n",
        "   :feedback_d: This would be the syntax for a function named student being called on a variable named title.\n",
        "   :feedback_e: Yes, this is the correct syntax to use.\n",
        "   :practice: T\n",
        "   :topics: PythonTurtle/ObjectInstances\n",
        "\n",
        "   For an instance of a class that is assigned to the variable ``student``, what is the proper way to refer to the ``title`` attribute/instance variable?\n"
      ],
      "execution_count": 0,
      "outputs": []
    },
    {
      "cell_type": "markdown",
      "metadata": {
        "id": "fLOVgBp0lCm-",
        "colab_type": "text"
      },
      "source": [
        "Kısa cevaplı soruların yazımı"
      ]
    },
    {
      "cell_type": "markdown",
      "metadata": {
        "id": "OxMpZcLslcXA",
        "colab_type": "text"
      },
      "source": [
        "![alt text](https://drive.google.com/uc?id=1Z9xU40TApHKQVnOm34eCmuZNiVrgtsEw)"
      ]
    },
    {
      "cell_type": "code",
      "metadata": {
        "id": "pRXfCHALlapG",
        "colab_type": "code",
        "colab": {}
      },
      "source": [
        ".. fillintheblank:: assess_question1_3_1_1_7\n",
        "   :practice: T\n",
        "   :topics: PythonTurtle/ObjectInstances\n",
        "\n",
        "   What is the name of jane's attribute (not method) that is referred to in the following code?\n",
        "\n",
        "   .. sourcecode:: python\n",
        "\n",
        "    import turtle\n",
        "\n",
        "    jane = turtle.Turtle()\n",
        "    jane.forward(20)\n",
        "    print(jane.x)\n",
        "\n",
        "   The attribute is\n",
        "\n",
        "   -  :x: Good work!\n",
        "      :jane: jane is an instance, not an attribute.\n",
        "      :forward: forward is a method.\n",
        "      :turtle: turtle is the class, not an attribute.\n",
        "      :Turtle: Turtle is a method, not an attribute\n",
        "      :.*: Incorrect, try again.\n"
      ],
      "execution_count": 0,
      "outputs": []
    },
    {
      "cell_type": "markdown",
      "metadata": {
        "id": "M2XmxAs-lvNw",
        "colab_type": "text"
      },
      "source": [
        "Sürükle bırak sorularının yazımı aşağıda kodlanmıştır. Kodu olması gerektiği sırayla yazmanız gerekmektedir. Kod blokları arasına ==== koyarak blokları birbirinden ayırmış olursunuz. Ayrılan bloklar otomatik olarak karıştırılır ve öğrenciden sıralaması istenir."
      ]
    },
    {
      "cell_type": "markdown",
      "metadata": {
        "id": "PUwv9b9WlvTC",
        "colab_type": "text"
      },
      "source": [
        "![alt text](https://drive.google.com/uc?id=1QvaoImFkqA02ofUIo8VOubhWfzX_bjV-)"
      ]
    },
    {
      "cell_type": "code",
      "metadata": {
        "id": "u0c5RosJlvfg",
        "colab_type": "code",
        "colab": {}
      },
      "source": [
        ".. parsonsprob:: pp5_11_1\n",
        "\n",
        "   Write a program that will print out the length of each item in the list as well as the first and last characters of the item.\n",
        "   -----\n",
        "   weather = [\"sunny\", \"cloudy\", \"partially sunny\",\n",
        "              \"rainy\", \"storming\", \"windy\", \"foggy\",\n",
        "              \"snowy\", \"hailing\"]\n",
        "   =====\n",
        "   for condition in weather:\n",
        "   =====\n",
        "       print(\"The word is\", len(condition), \"characters\")\n",
        "   =====\n",
        "       first_char = condition[0]\n",
        "       last_char = condition[-1]\n",
        "   =====\n",
        "       print(\"The first character is: \" + first_char)\n",
        "       print(\"The last character is: \" + last_char)\n"
      ],
      "execution_count": 0,
      "outputs": []
    },
    {
      "cell_type": "markdown",
      "metadata": {
        "id": "Al8ZZqzylv_Y",
        "colab_type": "text"
      },
      "source": [
        "Öğrencinin cevabını indirebilmesi için \"Download butonu\" konabilir. Bunun için soru yazılırken enabledownload eklenmedir. "
      ]
    },
    {
      "cell_type": "markdown",
      "metadata": {
        "id": "zs_QwG0tlwEI",
        "colab_type": "text"
      },
      "source": [
        "![alt text](https://drive.google.com/uc?id=1ijGIFuyT0m5NNwTiaemNJdeiCz6J4NJB)"
      ]
    },
    {
      "cell_type": "code",
      "metadata": {
        "id": "2ECy8VyYlwL7",
        "colab_type": "code",
        "colab": {}
      },
      "source": [
        "\n",
        ".. activecode:: lab4_2a\n",
        "   :enabledownload:\n",
        "\n",
        "   ``The Fibonacci Sequence`` is computed based on the following formula: ::\n",
        "\n",
        "       f(n) = 0 if n = 0\n",
        "       f(n) = 1 if n = 1\n",
        "       f(n) = f(n-1 )+ f(n-2) if n > 1 \n",
        "\n",
        "   Write a Python program (includes function) to compute the value of f(n) with a given n input by console.  ::\n",
        "\n",
        "     Example:\n",
        "\n",
        "      If the following n is given as input to the program: 7\n",
        "      Then, the output of the program should be: 13\n",
        "\n",
        "      In case of input data being supplied to the question, it should be       \n",
        "      assumed to be a console input.\n",
        "\n",
        "\n",
        "   **Hints:** We can define recursive function in Python.\n",
        "\n",
        "   ~~~~\n",
        "\n",
        "\n",
        "   ===="
      ],
      "execution_count": 0,
      "outputs": []
    }
  ]
}